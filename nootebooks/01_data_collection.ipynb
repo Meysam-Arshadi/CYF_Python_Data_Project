{
 "cells": [
  {
   "cell_type": "code",
   "execution_count": 1,
   "metadata": {},
   "outputs": [],
   "source": [
    "import pandas as pd"
   ]
  },
  {
   "cell_type": "code",
   "execution_count": 2,
   "metadata": {},
   "outputs": [],
   "source": [
    "import matplotlib.pyplot as plt\n",
    "import numpy as np\n",
    "import jdatetime # To convert Persian (Jalali) date to an English (Gregorian) date"
   ]
  },
  {
   "cell_type": "code",
   "execution_count": 3,
   "metadata": {},
   "outputs": [],
   "source": [
    "from sklearn.neighbors import KNeighborsClassifier\n",
    "from sklearn.model_selection import train_test_split\n",
    "from sklearn.metrics import accuracy_score, precision_score"
   ]
  },
  {
   "cell_type": "code",
   "execution_count": 4,
   "metadata": {},
   "outputs": [],
   "source": [
    "#Step 1: Import data\n",
    "file = \"/Users/off-centreproductionsmacpro/Documents/GitHub/CYF_Python_Data_Project/data/raw/Raw-DataSet.csv\"\n",
    "df = pd.read_csv(file,  encoding = 'utf-8')"
   ]
  },
  {
   "cell_type": "code",
   "execution_count": 5,
   "metadata": {},
   "outputs": [
    {
     "name": "stdout",
     "output_type": "stream",
     "text": [
      "<class 'pandas.core.frame.DataFrame'>\n",
      "RangeIndex: 32 entries, 0 to 31\n",
      "Data columns (total 18 columns):\n",
      " #   Column                   Non-Null Count  Dtype \n",
      "---  ------                   --------------  ----- \n",
      " 0   _id                      32 non-null     int64 \n",
      " 1   internal_id              32 non-null     int64 \n",
      " 2   contract_id              32 non-null     object\n",
      " 3   contract_title           32 non-null     object\n",
      " 4   contract_value           32 non-null     object\n",
      " 5   contract_date            32 non-null     object\n",
      " 6   contract_ref_num         32 non-null     object\n",
      " 7   contract_url             32 non-null     object\n",
      " 8   contract_finish_date     32 non-null     object\n",
      " 9   employer                 32 non-null     object\n",
      " 10  contractor               32 non-null     object\n",
      " 11  signed_by                32 non-null     object\n",
      " 12  contract_registery_date  32 non-null     object\n",
      " 13  contract_type            32 non-null     object\n",
      " 14  contract_funding         32 non-null     object\n",
      " 15  city                     22 non-null     object\n",
      " 16  locality                 22 non-null     object\n",
      " 17  province                 22 non-null     object\n",
      "dtypes: int64(2), object(16)\n",
      "memory usage: 4.6+ KB\n",
      "None\n"
     ]
    }
   ],
   "source": [
    "print(df.info())"
   ]
  },
  {
   "cell_type": "code",
   "execution_count": 6,
   "metadata": {},
   "outputs": [
    {
     "name": "stdout",
     "output_type": "stream",
     "text": [
      "0       538,115,195,389\n",
      "1        10,990,781,147\n",
      "2     1,211,757,426,886\n",
      "3     1,758,107,559,936\n",
      "4     1,262,380,000,000\n",
      "5       936,407,993,522\n",
      "6        43,873,974,805\n",
      "7        36,283,680,925\n",
      "8     1,498,439,106,404\n",
      "9     1,896,815,094,565\n",
      "10       43,999,347,425\n",
      "11       16,671,309,458\n",
      "12      266,734,072,022\n",
      "13    2,552,072,157,584\n",
      "14      773,205,409,739\n",
      "15       39,994,604,176\n",
      "16       20,000,000,000\n",
      "17    1,303,958,638,252\n",
      "18      700,899,290,658\n",
      "19    1,575,592,974,356\n",
      "20    5,808,778,787,179\n",
      "21      784,095,103,455\n",
      "22       32,433,978,200\n",
      "23       16,474,824,000\n",
      "24      174,144,413,750\n",
      "25       49,673,390,000\n",
      "26      200,972,110,000\n",
      "27       59,828,690,000\n",
      "28       23,326,928,485\n",
      "29       19,383,083,000\n",
      "30      836,395,666,966\n",
      "31      113,650,000,000\n",
      "Name: contract_value, dtype: object\n"
     ]
    }
   ],
   "source": [
    "# The value is in Iranian Rial [1000 IR = 0.19 GBP]:\n",
    "print(df['contract_value'])"
   ]
  },
  {
   "cell_type": "code",
   "execution_count": 7,
   "metadata": {},
   "outputs": [
    {
     "name": "stdout",
     "output_type": "stream",
     "text": [
      "0     5.381152e+11\n",
      "1     1.099078e+10\n",
      "2     1.211757e+12\n",
      "3     1.758108e+12\n",
      "4     1.262380e+12\n",
      "5     9.364080e+11\n",
      "6     4.387397e+10\n",
      "7     3.628368e+10\n",
      "8     1.498439e+12\n",
      "9     1.896815e+12\n",
      "10    4.399935e+10\n",
      "11    1.667131e+10\n",
      "12    2.667341e+11\n",
      "13    2.552072e+12\n",
      "14    7.732054e+11\n",
      "15    3.999460e+10\n",
      "16    2.000000e+10\n",
      "17    1.303959e+12\n",
      "18    7.008993e+11\n",
      "19    1.575593e+12\n",
      "20    5.808779e+12\n",
      "21    7.840951e+11\n",
      "22    3.243398e+10\n",
      "23    1.647482e+10\n",
      "24    1.741444e+11\n",
      "25    4.967339e+10\n",
      "26    2.009721e+11\n",
      "27    5.982869e+10\n",
      "28    2.332693e+10\n",
      "29    1.938308e+10\n",
      "30    8.363957e+11\n",
      "31    1.136500e+11\n",
      "Name: contract_value, dtype: float64\n"
     ]
    }
   ],
   "source": [
    "# Remove commas and convert the contract_value string type to numeric type\n",
    "df['contract_value'] = df['contract_value'].str.replace(',', '', regex=True).astype(float)\n",
    "print(df['contract_value'])"
   ]
  },
  {
   "cell_type": "code",
   "execution_count": 8,
   "metadata": {},
   "outputs": [
    {
     "name": "stdout",
     "output_type": "stream",
     "text": [
      "0      1395-6-10\n",
      "1     1395-12-23\n",
      "2      1396-4-31\n",
      "3       1396-2-2\n",
      "4     1396-10-13\n",
      "5       1397-7-9\n",
      "6       1397-2-1\n",
      "7     1394-12-25\n",
      "8      1395-8-15\n",
      "9      1395-6-14\n",
      "10     1397-1-20\n",
      "11      1397-6-1\n",
      "12     1398-1-25\n",
      "13     1398-3-27\n",
      "14     1398-4-11\n",
      "15     1397-1-21\n",
      "16      1397-5-1\n",
      "17    1395-12-24\n",
      "18     1395-7-12\n",
      "19     1397-2-19\n",
      "20    1395-12-24\n",
      "21      1395-8-2\n",
      "22    1390-11-20\n",
      "23      1393-6-5\n",
      "24     1392-2-24\n",
      "25      1391-3-1\n",
      "26      1391-3-1\n",
      "27     1393-10-1\n",
      "28     1393-4-24\n",
      "29      1393-6-5\n",
      "30     1396-11-8\n",
      "31      1395-7-3\n",
      "Name: contract_date, dtype: object\n"
     ]
    }
   ],
   "source": [
    "# contract_date is in Persian format (Jalali):\n",
    "print(df['contract_date'])"
   ]
  },
  {
   "cell_type": "code",
   "execution_count": 9,
   "metadata": {},
   "outputs": [
    {
     "name": "stdout",
     "output_type": "stream",
     "text": [
      "0     2016-08-31\n",
      "1     2017-03-13\n",
      "2     2017-07-22\n",
      "3     2017-04-22\n",
      "4     2018-01-03\n",
      "5     2018-10-01\n",
      "6     2018-04-21\n",
      "7     2016-03-15\n",
      "8     2016-11-05\n",
      "9     2016-09-04\n",
      "10    2018-04-09\n",
      "11    2018-08-23\n",
      "12    2019-04-14\n",
      "13    2019-06-17\n",
      "14    2019-07-02\n",
      "15    2018-04-10\n",
      "16    2018-07-23\n",
      "17    2017-03-14\n",
      "18    2016-10-03\n",
      "19    2018-05-09\n",
      "20    2017-03-14\n",
      "21    2016-10-23\n",
      "22    2012-02-09\n",
      "23    2014-08-27\n",
      "24    2013-05-14\n",
      "25    2012-05-21\n",
      "26    2012-05-21\n",
      "27    2014-12-22\n",
      "28    2014-07-15\n",
      "29    2014-08-27\n",
      "30    2018-01-28\n",
      "31    2016-09-24\n",
      "Name: contract_date, dtype: object\n"
     ]
    }
   ],
   "source": [
    "# Function to convert Persian dates (Jalali) to Gregorian dates:\n",
    "\n",
    "def convert_to_gregorian(jalali_date):\n",
    "    return jalali_date.togregorian()\n",
    "\n",
    "df['contract_date'] = df['contract_date'].apply(lambda x: jdatetime.date(int(x.split('-')[0]), int(x.split('-')[1]), int(x.split('-')[2])).togregorian())\n",
    "\n",
    "print(df['contract_date'])"
   ]
  },
  {
   "cell_type": "code",
   "execution_count": null,
   "metadata": {},
   "outputs": [],
   "source": []
  }
 ],
 "metadata": {
  "kernelspec": {
   "display_name": "Meysam_Arshadi_CYF_Final_Projec",
   "language": "python",
   "name": "python3"
  },
  "language_info": {
   "codemirror_mode": {
    "name": "ipython",
    "version": 3
   },
   "file_extension": ".py",
   "mimetype": "text/x-python",
   "name": "python",
   "nbconvert_exporter": "python",
   "pygments_lexer": "ipython3",
   "version": "3.10.13"
  }
 },
 "nbformat": 4,
 "nbformat_minor": 2
}
